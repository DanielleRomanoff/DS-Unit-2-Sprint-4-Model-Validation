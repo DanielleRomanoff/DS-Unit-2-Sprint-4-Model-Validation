{
 "cells": [
  {
   "cell_type": "code",
   "execution_count": 122,
   "metadata": {},
   "outputs": [],
   "source": [
    "%matplotlib inline\n",
    "import matplotlib.pyplot as plt\n",
    "import pandas as pd\n",
    "import numpy as np\n",
    "from sklearn.linear_model import LogisticRegression\n",
    "from sklearn.metrics import mean_absolute_error\n",
    "from sklearn.model_selection import train_test_split\n",
    "from sklearn.metrics import accuracy_score\n",
    "from sklearn.preprocessing import StandardScaler\n",
    "from sklearn.pipeline import make_pipeline"
   ]
  },
  {
   "cell_type": "code",
   "execution_count": 111,
   "metadata": {},
   "outputs": [
    {
     "data": {
      "image/png": "[encoded data removed]",
      "text/plain": [
       "<Figure size 432x288 with 1 Axes>"
      ]
     },
     "metadata": {
      "needs_background": "light"
     },
     "output_type": "display_data"
    }
   ],
   "source": [
    "# import weather data for Long Branch, NJ\n",
    "\n",
    "url = 'https://raw.githubusercontent.com/DanielleRomanoff/DS-Unit-2-Sprint-4-Model-Validation/master/module-1-begin-modeling-process/Weather_LongBranch_NJ.csv'\n",
    "weather = pd.read_csv(url, parse_dates = ['DATE']).set_index('DATE')\n",
    "weather['2015': '2018'].TMAX.plot()\n",
    "plt.title('Daily high temperature in Long Branch, NJ');"
   ]
  },
  {
   "cell_type": "code",
   "execution_count": 112,
   "metadata": {},
   "outputs": [
    {
     "data": {
      "text/html": [
       "<div>\n",
       "<style scoped>\n",
       "    .dataframe tbody tr th:only-of-type {\n",
       "        vertical-align: middle;\n",
       "    }\n",
       "\n",
       "    .dataframe tbody tr th {\n",
       "        vertical-align: top;\n",
       "    }\n",
       "\n",
       "    .dataframe thead th {\n",
       "        text-align: right;\n",
       "    }\n",
       "</style>\n",
       "<table border=\"1\" class=\"dataframe\">\n",
       "  <thead>\n",
       "    <tr style=\"text-align: right;\">\n",
       "      <th></th>\n",
       "      <th>LATITUDE</th>\n",
       "      <th>LONGITUDE</th>\n",
       "      <th>ELEVATION</th>\n",
       "      <th>TMAX</th>\n",
       "      <th>TMIN</th>\n",
       "      <th>TOBS</th>\n",
       "    </tr>\n",
       "    <tr>\n",
       "      <th>DATE</th>\n",
       "      <th></th>\n",
       "      <th></th>\n",
       "      <th></th>\n",
       "      <th></th>\n",
       "      <th></th>\n",
       "      <th></th>\n",
       "    </tr>\n",
       "  </thead>\n",
       "  <tbody>\n",
       "    <tr>\n",
       "      <th>2015-01-01</th>\n",
       "      <td>40.29696</td>\n",
       "      <td>-74.00153</td>\n",
       "      <td>9.1</td>\n",
       "      <td>41.0</td>\n",
       "      <td>22.0</td>\n",
       "      <td>31.0</td>\n",
       "    </tr>\n",
       "    <tr>\n",
       "      <th>2015-01-02</th>\n",
       "      <td>40.29696</td>\n",
       "      <td>-74.00153</td>\n",
       "      <td>9.1</td>\n",
       "      <td>44.0</td>\n",
       "      <td>26.0</td>\n",
       "      <td>37.0</td>\n",
       "    </tr>\n",
       "    <tr>\n",
       "      <th>2015-01-03</th>\n",
       "      <td>40.29696</td>\n",
       "      <td>-74.00153</td>\n",
       "      <td>9.1</td>\n",
       "      <td>48.0</td>\n",
       "      <td>31.0</td>\n",
       "      <td>48.0</td>\n",
       "    </tr>\n",
       "    <tr>\n",
       "      <th>2015-01-04</th>\n",
       "      <td>40.29696</td>\n",
       "      <td>-74.00153</td>\n",
       "      <td>9.1</td>\n",
       "      <td>61.0</td>\n",
       "      <td>40.0</td>\n",
       "      <td>40.0</td>\n",
       "    </tr>\n",
       "    <tr>\n",
       "      <th>2015-01-05</th>\n",
       "      <td>40.29696</td>\n",
       "      <td>-74.00153</td>\n",
       "      <td>9.1</td>\n",
       "      <td>40.0</td>\n",
       "      <td>19.0</td>\n",
       "      <td>20.0</td>\n",
       "    </tr>\n",
       "  </tbody>\n",
       "</table>\n",
       "</div>"
      ],
      "text/plain": [
       "            LATITUDE  LONGITUDE  ELEVATION  TMAX  TMIN  TOBS\n",
       "DATE                                                        \n",
       "2015-01-01  40.29696  -74.00153        9.1  41.0  22.0  31.0\n",
       "2015-01-02  40.29696  -74.00153        9.1  44.0  26.0  37.0\n",
       "2015-01-03  40.29696  -74.00153        9.1  48.0  31.0  48.0\n",
       "2015-01-04  40.29696  -74.00153        9.1  61.0  40.0  40.0\n",
       "2015-01-05  40.29696  -74.00153        9.1  40.0  19.0  20.0"
      ]
     },
     "execution_count": 112,
     "metadata": {},
     "output_type": "execute_result"
    }
   ],
   "source": [
    "# drop Station column - not useful and drop NaN's\n",
    "\n",
    "weather = weather.drop('STATION', axis = 1)\n",
    "weather.dropna(inplace = True)\n",
    "weather.head()"
   ]
  },
  {
   "cell_type": "code",
   "execution_count": 113,
   "metadata": {},
   "outputs": [
    {
     "data": {
      "text/plain": [
       "63.971014492753625"
      ]
     },
     "execution_count": 113,
     "metadata": {},
     "output_type": "execute_result"
    }
   ],
   "source": [
    "# get the mean of the TMAX values\n",
    "\n",
    "weather.TMAX.mean()"
   ]
  },
  {
   "cell_type": "code",
   "execution_count": 115,
   "metadata": {},
   "outputs": [
    {
     "name": "stdout",
     "output_type": "stream",
     "text": [
      "6.144100580270793\n"
     ]
    },
    {
     "data": {
      "text/html": [
       "<div>\n",
       "<style scoped>\n",
       "    .dataframe tbody tr th:only-of-type {\n",
       "        vertical-align: middle;\n",
       "    }\n",
       "\n",
       "    .dataframe tbody tr th {\n",
       "        vertical-align: top;\n",
       "    }\n",
       "\n",
       "    .dataframe thead th {\n",
       "        text-align: right;\n",
       "    }\n",
       "</style>\n",
       "<table border=\"1\" class=\"dataframe\">\n",
       "  <thead>\n",
       "    <tr style=\"text-align: right;\">\n",
       "      <th></th>\n",
       "      <th>LATITUDE</th>\n",
       "      <th>LONGITUDE</th>\n",
       "      <th>ELEVATION</th>\n",
       "      <th>TMAX</th>\n",
       "      <th>TMIN</th>\n",
       "      <th>TOBS</th>\n",
       "      <th>TMAX_yesterday</th>\n",
       "    </tr>\n",
       "    <tr>\n",
       "      <th>DATE</th>\n",
       "      <th></th>\n",
       "      <th></th>\n",
       "      <th></th>\n",
       "      <th></th>\n",
       "      <th></th>\n",
       "      <th></th>\n",
       "      <th></th>\n",
       "    </tr>\n",
       "  </thead>\n",
       "  <tbody>\n",
       "    <tr>\n",
       "      <th>2015-01-02</th>\n",
       "      <td>40.29696</td>\n",
       "      <td>-74.00153</td>\n",
       "      <td>9.1</td>\n",
       "      <td>44.0</td>\n",
       "      <td>26.0</td>\n",
       "      <td>37.0</td>\n",
       "      <td>41.0</td>\n",
       "    </tr>\n",
       "    <tr>\n",
       "      <th>2015-01-03</th>\n",
       "      <td>40.29696</td>\n",
       "      <td>-74.00153</td>\n",
       "      <td>9.1</td>\n",
       "      <td>48.0</td>\n",
       "      <td>31.0</td>\n",
       "      <td>48.0</td>\n",
       "      <td>44.0</td>\n",
       "    </tr>\n",
       "    <tr>\n",
       "      <th>2015-01-04</th>\n",
       "      <td>40.29696</td>\n",
       "      <td>-74.00153</td>\n",
       "      <td>9.1</td>\n",
       "      <td>61.0</td>\n",
       "      <td>40.0</td>\n",
       "      <td>40.0</td>\n",
       "      <td>48.0</td>\n",
       "    </tr>\n",
       "    <tr>\n",
       "      <th>2015-01-05</th>\n",
       "      <td>40.29696</td>\n",
       "      <td>-74.00153</td>\n",
       "      <td>9.1</td>\n",
       "      <td>40.0</td>\n",
       "      <td>19.0</td>\n",
       "      <td>20.0</td>\n",
       "      <td>61.0</td>\n",
       "    </tr>\n",
       "    <tr>\n",
       "      <th>2015-01-06</th>\n",
       "      <td>40.29696</td>\n",
       "      <td>-74.00153</td>\n",
       "      <td>9.1</td>\n",
       "      <td>22.0</td>\n",
       "      <td>17.0</td>\n",
       "      <td>18.0</td>\n",
       "      <td>40.0</td>\n",
       "    </tr>\n",
       "  </tbody>\n",
       "</table>\n",
       "</div>"
      ],
      "text/plain": [
       "            LATITUDE  LONGITUDE  ELEVATION  TMAX  TMIN  TOBS  TMAX_yesterday\n",
       "DATE                                                                        \n",
       "2015-01-02  40.29696  -74.00153        9.1  44.0  26.0  37.0            41.0\n",
       "2015-01-03  40.29696  -74.00153        9.1  48.0  31.0  48.0            44.0\n",
       "2015-01-04  40.29696  -74.00153        9.1  61.0  40.0  40.0            48.0\n",
       "2015-01-05  40.29696  -74.00153        9.1  40.0  19.0  20.0            61.0\n",
       "2015-01-06  40.29696  -74.00153        9.1  22.0  17.0  18.0            40.0"
      ]
     },
     "execution_count": 115,
     "metadata": {},
     "output_type": "execute_result"
    }
   ],
   "source": [
    "weather['TMAX_yesterday'] = weather.TMAX.shift(1)\n",
    "weather.dropna(inplace = True) # Drops the first date because it doesn't have a 'yesterday'\n",
    "print(mean_absolute_error(weather.TMAX, weather.TMAX_yesterday))\n",
    "weather.head()"
   ]
  },
  {
   "cell_type": "code",
   "execution_count": 114,
   "metadata": {},
   "outputs": [
    {
     "data": {
      "text/plain": [
       "14.42688510817055"
      ]
     },
     "execution_count": 114,
     "metadata": {},
     "output_type": "execute_result"
    }
   ],
   "source": [
    "# get the mean absolute weather\n",
    "\n",
    "predicted = [weather.TMAX.mean()] * len(weather)\n",
    "mean_absolute_error(weather.TMAX, predicted)"
   ]
  },
  {
   "cell_type": "code",
   "execution_count": 116,
   "metadata": {},
   "outputs": [
    {
     "name": "stdout",
     "output_type": "stream",
     "text": [
      "(775, 6)\n",
      "(259, 6)\n",
      "(775,)\n",
      "(259,)\n"
     ]
    }
   ],
   "source": [
    "X = weather.drop('TMAX_yesterday', axis = 'columns')\n",
    "y = weather.TMAX_yesterday\n",
    "\n",
    "X_train, X_test, y_train, y_test = train_test_split(X, y, random_state = 42)\n",
    "\n",
    "print(X_train.shape)\n",
    "print(X_test.shape)\n",
    "print(y_train.shape)\n",
    "print(y_test.shape)"
   ]
  },
  {
   "cell_type": "code",
   "execution_count": 130,
   "metadata": {},
   "outputs": [
    {
     "data": {
      "text/plain": [
       "((259,), (259,))"
      ]
     },
     "execution_count": 130,
     "metadata": {},
     "output_type": "execute_result"
    }
   ],
   "source": [
    "temperature_class = y_train.mode()[0]\n",
    "y_pred = np.full(shape = y_test.shape, fill_value = temperature_class)\n",
    "y_pred.shape, y_test.shape"
   ]
  },
  {
   "cell_type": "code",
   "execution_count": 124,
   "metadata": {},
   "outputs": [
    {
     "name": "stderr",
     "output_type": "stream",
     "text": [
      "/Users/danielleromanoff/anaconda3/lib/python3.6/site-packages/sklearn/linear_model/logistic.py:433: FutureWarning: Default solver will be changed to 'lbfgs' in 0.22. Specify a solver to silence this warning.\n",
      "  FutureWarning)\n",
      "/Users/danielleromanoff/anaconda3/lib/python3.6/site-packages/sklearn/linear_model/logistic.py:460: FutureWarning: Default multi_class will be changed to 'auto' in 0.22. Specify the multi_class option to silence this warning.\n",
      "  \"this warning.\", FutureWarning)\n"
     ]
    },
    {
     "data": {
      "text/plain": [
       "0.09477756286266925"
      ]
     },
     "execution_count": 124,
     "metadata": {},
     "output_type": "execute_result"
    }
   ],
   "source": [
    "model = LogisticRegression().fit(X,y)\n",
    "model.score(X,y)"
   ]
  },
  {
   "cell_type": "code",
   "execution_count": 126,
   "metadata": {},
   "outputs": [
    {
     "data": {
      "text/plain": [
       "array([54., 77., 66., 54., 78., 54., 78., 78., 78., 78., 54., 44., 78.,\n",
       "       52., 78., 49., 78., 49., 78., 78., 51., 54., 78., 52., 78., 77.,\n",
       "       87., 58., 54., 58., 78., 77., 51., 78., 77., 77., 78., 52., 66.,\n",
       "       78., 87., 78., 78., 44., 38., 78., 78., 78., 44., 78., 53., 77.,\n",
       "       51., 54., 77., 78., 78., 51., 58., 78., 78., 78., 77., 49., 44.,\n",
       "       87., 54., 54., 78., 78., 78., 66., 44., 54., 52., 78., 78., 78.,\n",
       "       44., 78., 78., 44., 54., 78., 78., 54., 53., 54., 58., 78., 77.,\n",
       "       87., 78., 52., 38., 78., 78., 66., 44., 78., 78., 51., 54., 77.,\n",
       "       54., 78., 38., 80., 51., 78., 53., 58., 78., 80., 66., 51., 58.,\n",
       "       66., 44., 44., 78., 87., 77., 54., 44., 78., 54., 53., 66., 77.,\n",
       "       44., 54., 77., 44., 54., 78., 80., 78., 58., 78., 51., 78., 93.,\n",
       "       66., 78., 77., 78., 77., 62., 54., 77., 58., 54., 87., 78., 80.,\n",
       "       78., 52., 78., 78., 78., 78., 87., 38., 54., 77., 38., 54., 78.,\n",
       "       19., 78., 78., 52., 52., 52., 52., 54., 58., 52., 54., 78., 66.,\n",
       "       54., 66., 54., 54., 54., 54., 44., 49., 54., 58., 78., 54., 66.,\n",
       "       66., 77., 78., 62., 54., 78., 78., 93., 52., 52., 78., 58., 78.,\n",
       "       78., 78., 51., 54., 58., 44., 80., 58., 58., 66., 58., 54., 51.,\n",
       "       77., 80., 78., 78., 54., 54., 64., 78., 78., 77., 78., 78., 58.,\n",
       "       78., 62., 77., 52., 54., 51., 54., 44., 78., 54., 31., 49., 54.,\n",
       "       77., 77., 78., 78., 78., 49., 66., 54., 77., 78., 78., 78.])"
      ]
     },
     "execution_count": 126,
     "metadata": {},
     "output_type": "execute_result"
    }
   ],
   "source": [
    "model.predict(X_test)"
   ]
  },
  {
   "cell_type": "code",
   "execution_count": 118,
   "metadata": {},
   "outputs": [
    {
     "name": "stderr",
     "output_type": "stream",
     "text": [
      "/Users/danielleromanoff/anaconda3/lib/python3.6/site-packages/sklearn/linear_model/logistic.py:460: FutureWarning: Default multi_class will be changed to 'auto' in 0.22. Specify the multi_class option to silence this warning.\n",
      "  \"this warning.\", FutureWarning)\n"
     ]
    },
    {
     "data": {
      "text/plain": [
       "0.06563706563706563"
      ]
     },
     "execution_count": 118,
     "metadata": {},
     "output_type": "execute_result"
    }
   ],
   "source": [
    "pipeline = make_pipeline(StandardScaler(), LogisticRegression(solver = 'lbfgs'))\n",
    "pipeline.fit(X_train, y_train)\n",
    "y_pred = pipeline.predict(X_test)\n",
    "accuracy_score(y_test, y_pred)"
   ]
  },
  {
   "cell_type": "code",
   "execution_count": null,
   "metadata": {},
   "outputs": [],
   "source": []
  }
 ],
 "metadata": {
  "kernelspec": {
   "display_name": "Python 3",
   "language": "python",
   "name": "python3"
  },
  "language_info": {
   "codemirror_mode": {
    "name": "ipython",
    "version": 3
   },
   "file_extension": ".py",
   "mimetype": "text/x-python",
   "name": "python",
   "nbconvert_exporter": "python",
   "pygments_lexer": "ipython3",
   "version": "3.6.6"
  }
 },
 "nbformat": 4,
 "nbformat_minor": 2
}
